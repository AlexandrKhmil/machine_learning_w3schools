{
 "cells": [
  {
   "cell_type": "markdown",
   "metadata": {},
   "source": [
    "# Content\n",
    "1. [Data Types](#data_types)\n",
    "2. [Mean, Median, Mode](#mean_median_mode)\n",
    "3. [Standart Deviation](#standart_deviation)\n",
    "4. [Variance](#variance)\n",
    "5. [Percentiles](#percentiles)\n",
    "6. [Histogram](#histogram)\n",
    "7. [Normal Data Distribution](#normal_data_distribution)\n",
    "8. [Scatter Plot](#scatter_plot)\n",
    "9. [Regression](#regression)\n",
    "10. [Linear Regression](#linear_regression)\n",
    "    1. [R-Squared for Linear Regression](#r_squared_for_linear_regression)\n",
    "    2. [Predict Future Values for Linear Regression](#predict_future_values_for_linear_regression)\n",
    "    3. [Bad Fit for Linear Regression](#bad_fit_for_linear_regression)\n",
    "11. [Polynomial Regression](#polynomial_regression)\n",
    "    1. [R-Squared for Polynomial Regression](#r_squared_for_polynomial_regression)\n",
    "    2. [Predict Future Values for Polynomial Regression](#predict_future_values_for_polynomial_regression)\n",
    "    3. [Bad Fit for Polynomial Regression](#bad_fit_for_polynomial_regression)\n",
    "12. [Multiple Regression](#multiple_regression)\n",
    "    1. [Coefficient of Multiple Regression](#coefficient_of_multiple_regression)\n",
    "13. [Scale Features](#scale_features)\n",
    "    1. [Scale data by using Standardization](#scale_data_by_using_standardization)\n",
    "    2. [Predict Values in unscalled data](#predict_values_in_unscalled_data)\n",
    "14. [Train/Test](#train_test)\n",
    "15. [Decision Tree](#decision_tree)"
   ]
  },
  {
   "cell_type": "markdown",
   "metadata": {},
   "source": [
    "# Data Types <a id = \"data_types\"></a>\n",
    "1. **Numerical** - numbers, and can be split into two numerical categories: \n",
    "    1. **Discrete Data** - numbers that are limited to integers. Example: The number of cars passing by. \n",
    "    2. **Continuous Data** - numbers that are of infinite value. Example: The price of an item, or the size of an item.\n",
    "\n",
    "2. **Categorical** - values that cannot be measured up against each other. Example: a color value, or any yes/no values.\n",
    "\n",
    "3. **Ordinal** - like categorical data, but can be measured up against each other. Example: school grades where A is better than B and so on."
   ]
  },
  {
   "cell_type": "markdown",
   "metadata": {},
   "source": [
    "# Mean, Median and Mode <a id = \"mean_median_mode\"></a>\n",
    "1. **Mean** - the average value.To calculate the mean, find the sum of all values, and dived the sum by the number of values. \n",
    "\n",
    "$m = \\frac{Sum}{Count}$, m - mean\n",
    "\n",
    "2. **Median** - the mid point value. The median value is the value in the middle, after you have sorted all the values. If there are two numbers in the middle, divide the sum of those numbers by two.\n",
    "\n",
    "$median(a) = \\frac{a{\\big \\lfloor{(\\#a + 1) / 2}\\big \\rfloor} + a{\\big \\lceil{(\\#a + 1) / 2}\\big \\rceil}}{2}$\n",
    "\n",
    "3. **Mode** - the most common value."
   ]
  },
  {
   "cell_type": "code",
   "execution_count": 16,
   "metadata": {},
   "outputs": [
    {
     "name": "stdout",
     "output_type": "stream",
     "text": [
      "Mean by formula - 89.76923076923077\n",
      "Mean by numpy - 89.76923076923077\n",
      "Median by formula - 87\n",
      "Median by numpy - 87.0\n",
      "Mode by formula - {'item': 86, 'count': 3}\n",
      "Mode by scipy - ModeResult(mode=array([86]), count=array([3]))\n"
     ]
    }
   ],
   "source": [
    "speed = [99,86,87,88,111,86,103,87,94,78,77,85,86]\n",
    "\n",
    "# Mean\n",
    "mean = sum(speed) / len(speed)\n",
    "print('Mean by formula - {}'.format(mean))\n",
    "\n",
    "import numpy\n",
    "mean = numpy.mean(speed)\n",
    "print('Mean by numpy - {}'.format(mean))\n",
    "\n",
    "# Median\n",
    "median = (\n",
    "    sorted(speed)[int(len(speed) / 2)] \n",
    "    if len(speed) % 2 == 1 \n",
    "    else (\n",
    "        sorted(speed)[int(len(speed) / 2)] \n",
    "        + sorted(speed)[int(len(speed) / 2) - 1]\n",
    "    ) / 2\n",
    ")\n",
    "print('Median by formula - {}'.format(median))\n",
    "\n",
    "median = numpy.median(speed)\n",
    "print('Median by numpy - {}'.format(median))\n",
    "\n",
    "# Mode\n",
    "items_count = list(map(lambda x: speed.count(x), speed))\n",
    "mode = {\n",
    "    'item': speed[items_count.index(max(items_count))],\n",
    "    'count': max(items_count),\n",
    "}\n",
    "print('Mode by formula - {}'.format(mode))\n",
    "\n",
    "from scipy import stats\n",
    "mode = stats.mode(speed)\n",
    "print('Mode by scipy - {}'.format(mode)) "
   ]
  },
  {
   "cell_type": "markdown",
   "metadata": {},
   "source": [
    "# Standart Deviation <a id = \"standart_deviation\"></a>\n",
    "**Standart Deviation ($\\sigma$)** - number that describes how spread out the values are. A low standard deviation means that most of the numbers are close to the mean (average) value. A high standard deviation means that the values are spread out over a wider range.\n",
    "\n",
    "$\\sigma = \\sqrt{\\frac{\\sum(x_i - \\mu)^2}{N}}$\n",
    "\n",
    "$\\sigma$ - standard deviation;\n",
    "$N$ - the size of the values;\n",
    "$x_i$ - each value;\n",
    "$\\mu$ - mean;"
   ]
  },
  {
   "cell_type": "code",
   "execution_count": 17,
   "metadata": {},
   "outputs": [
    {
     "name": "stdout",
     "output_type": "stream",
     "text": [
      "std by formula: 37.84501153334721\n",
      "std by numpy: 37.84501153334721\n"
     ]
    }
   ],
   "source": [
    "speed = [32,111,138,28,59,77,97]\n",
    "\n",
    "from functools import reduce\n",
    "mean = sum(speed) / len(speed)\n",
    "std = (reduce(lambda prev, item: prev + (item - mean) ** 2, [0, *speed]) \n",
    "       / len(speed)) ** 0.5\n",
    "print('std by formula: {}'.format(std))\n",
    "\n",
    "import numpy\n",
    "std = numpy.std(speed)\n",
    "print('std by numpy: {}'.format(std))"
   ]
  },
  {
   "cell_type": "markdown",
   "metadata": {},
   "source": [
    "# Variance <a id = \"variance\"></a>\n",
    "**Variance ($\\sigma^2$)** - indicates how spread out the values are. The average of the **squared** differences from the Mean. \n"
   ]
  },
  {
   "cell_type": "code",
   "execution_count": 18,
   "metadata": {},
   "outputs": [
    {
     "name": "stdout",
     "output_type": "stream",
     "text": [
      "variance by numpy: 1432.2448979591834\n"
     ]
    }
   ],
   "source": [
    "from numpy import var \n",
    "speed = [32,111,138,28,59,77,97]\n",
    "v = numpy.var(speed)\n",
    "print('variance by numpy: {}'.format(v))"
   ]
  },
  {
   "cell_type": "markdown",
   "metadata": {},
   "source": [
    "# Percentiles <a id = \"percentiles\"></a>\n",
    "**Percentiles** are used in statistics to give you a number that describes the value that a given percent of the values are lower than.\n",
    "$Percentile(p) = \\frac{L[\\lceil{\\frac{p}{100} * N}\\rceil]}{N} * 100$,\n",
    "\n",
    "$p$ - percent; $L$ - list; $N$ - length of list "
   ]
  },
  {
   "cell_type": "code",
   "execution_count": 19,
   "metadata": {},
   "outputs": [
    {
     "name": "stdout",
     "output_type": "stream",
     "text": [
      "Percentile by numpy: 53.00000000000004\n"
     ]
    }
   ],
   "source": [
    "ages = [5,31,43,48,50,41,7,11,15,39,80,82,32,2,8,6,25,36,27,31]\n",
    "from numpy import percentile\n",
    "p = percentile(ages, 90)\n",
    "print('Percentile by numpy: {}'.format(p))"
   ]
  },
  {
   "cell_type": "markdown",
   "metadata": {},
   "source": [
    "# Histogram <a id = \"histogram\"></a>\n",
    "We use the array from the example above to draw a histogram with 5 bars.\n",
    "\n",
    "The first bar represents how many values in the array are between 0 and 1.\n",
    "\n",
    "The second bar represents how many values are between 1 and 2."
   ]
  },
  {
   "cell_type": "code",
   "execution_count": 20,
   "metadata": {},
   "outputs": [
    {
     "data": {
      "image/png": "[encoded data removed]",
      "text/plain": [
       "<Figure size 432x288 with 1 Axes>"
      ]
     },
     "metadata": {
      "needs_background": "light"
     },
     "output_type": "display_data"
    }
   ],
   "source": [
    "import numpy\n",
    "import matplotlib.pyplot as plt \n",
    "x = numpy.random.uniform(0.0, 5.0, 250)\n",
    "plt.hist(x, 5)\n",
    "plt.show()"
   ]
  },
  {
   "cell_type": "markdown",
   "metadata": {},
   "source": [
    "# Normal Data Distribution <a id = \"normal_data_distribution\"></a>\n",
    "In probability theory this kind of data distribution is known as the **normal data distribution**, or the **Gaussian data distribution**. This is an array where the values are concentrated around a given value."
   ]
  },
  {
   "cell_type": "code",
   "execution_count": 21,
   "metadata": {},
   "outputs": [
    {
     "data": {
      "image/png": "[encoded data removed]",
      "text/plain": [
       "<Figure size 432x288 with 1 Axes>"
      ]
     },
     "metadata": {
      "needs_background": "light"
     },
     "output_type": "display_data"
    }
   ],
   "source": [
    "import numpy\n",
    "import matplotlib.pyplot as plt\n",
    "x = numpy.random.normal(5.0, 1.0, 100000)\n",
    "plt.hist(x, 100)\n",
    "plt.show() "
   ]
  },
  {
   "cell_type": "markdown",
   "metadata": {},
   "source": [
    "# Scatter Plot <a id = \"scatter_plot\"></a>\n",
    "A scatter plot is a diagram where each value in the data set is represented by a dot."
   ]
  },
  {
   "cell_type": "code",
   "execution_count": 22,
   "metadata": {},
   "outputs": [
    {
     "data": {
      "image/png": "[encoded data removed]",
      "text/plain": [
       "<Figure size 432x288 with 1 Axes>"
      ]
     },
     "metadata": {
      "needs_background": "light"
     },
     "output_type": "display_data"
    }
   ],
   "source": [
    "import matplotlib.pyplot as plt\n",
    "\n",
    "x = numpy.random.normal(5.0, 1.0, 1000)\n",
    "y = numpy.random.normal(10.0, 2.0, 1000)\n",
    "\n",
    "plt.scatter(x, y)\n",
    "plt.show()"
   ]
  },
  {
   "cell_type": "markdown",
   "metadata": {},
   "source": [
    "# Regression <a id = \"regression\"></a>\n",
    "The term regression is used when you try to find the relationship between variables.\n",
    "\n",
    "In Machine Learning, and in statistical modeling, that relationship is used to predict the outcome of future events."
   ]
  },
  {
   "cell_type": "markdown",
   "metadata": {},
   "source": [
    "# Linear Regression <a id = \"linear_regression\"></a>\n",
    "\n",
    "Linear regression uses the relationship between the data-points to draw a straight line through all them.\n",
    "\n",
    "This line can be used to predict future values.\n"
   ]
  },
  {
   "cell_type": "code",
   "execution_count": 23,
   "metadata": {},
   "outputs": [
    {
     "data": {
      "image/png": "[encoded data removed]",
      "text/plain": [
       "<Figure size 432x288 with 1 Axes>"
      ]
     },
     "metadata": {
      "needs_background": "light"
     },
     "output_type": "display_data"
    }
   ],
   "source": [
    "import matplotlib.pyplot as plt\n",
    "from scipy import stats\n",
    "\n",
    "x = [5,7,8,7,2,17,2,9,4,11,12,9,6]\n",
    "y = [99,86,87,88,111,86,103,87,94,78,77,85,86]\n",
    "\n",
    "slope, intercept, r, p, std_err = stats.linregress(x, y)\n",
    "\n",
    "def myfunc(x):\n",
    "  return slope * x + intercept\n",
    "\n",
    "mymodel = list(map(myfunc, x))\n",
    "\n",
    "plt.scatter(x, y)\n",
    "plt.plot(x, mymodel)\n",
    "plt.show() "
   ]
  },
  {
   "cell_type": "markdown",
   "metadata": {},
   "source": [
    "## R-Squared for Linear Regression <a id = \"r_squared_for_linear_regression\"></a>\n",
    "The **r-squared** value ranges from 0 to 1, where 0 means no relationship, and 1 means 100% related."
   ]
  },
  {
   "cell_type": "code",
   "execution_count": 34,
   "metadata": {},
   "outputs": [
    {
     "name": "stdout",
     "output_type": "stream",
     "text": [
      "Relationship: -0.7585915243761551\n"
     ]
    }
   ],
   "source": [
    "from scipy import stats\n",
    "\n",
    "x = [5,7,8,7,2,17,2,9,4,11,12,9,6]\n",
    "y = [99,86,87,88,111,86,103,87,94,78,77,85,86]\n",
    "\n",
    "slope, intercept, r, p, std_err = stats.linregress(x, y)\n",
    "\n",
    "print('Relationship: {}'.format(r))"
   ]
  },
  {
   "cell_type": "markdown",
   "metadata": {},
   "source": [
    "## Predict Future Values for Linear Regression <a id = \"predict_future_values_for_linear_regression\"></a>"
   ]
  },
  {
   "cell_type": "code",
   "execution_count": 33,
   "metadata": {},
   "outputs": [
    {
     "name": "stdout",
     "output_type": "stream",
     "text": [
      "Predicted speed for 10 years old: 85.59308314937454\n"
     ]
    }
   ],
   "source": [
    "from scipy import stats\n",
    "\n",
    "x = [5,7,8,7,2,17,2,9,4,11,12,9,6]\n",
    "y = [99,86,87,88,111,86,103,87,94,78,77,85,86]\n",
    "\n",
    "slope, intercept, r, p, std_err = stats.linregress(x, y)\n",
    "\n",
    "def myfunc(x):\n",
    "  return slope * x + intercept\n",
    "\n",
    "speed = myfunc(10)\n",
    "\n",
    "print('Predicted speed for {1} years old: {0}'.format(speed, 10)) "
   ]
  },
  {
   "cell_type": "markdown",
   "metadata": {},
   "source": [
    "## Bad Fit for Linear Regression <a id = \"bad_fit_for_linear_regression\"></a>\n",
    "Example where inear regression would not be the best method to predict future values."
   ]
  },
  {
   "cell_type": "code",
   "execution_count": 31,
   "metadata": {},
   "outputs": [
    {
     "data": {
      "image/png": "[encoded data removed]",
      "text/plain": [
       "<Figure size 432x288 with 1 Axes>"
      ]
     },
     "metadata": {
      "needs_background": "light"
     },
     "output_type": "display_data"
    },
    {
     "name": "stdout",
     "output_type": "stream",
     "text": [
      "Relationship: 0.013318141542974908\n"
     ]
    }
   ],
   "source": [
    "import matplotlib.pyplot as plt\n",
    "from scipy import stats\n",
    "\n",
    "x = [89,43,36,36,95,10,66,34,38,20,26,29,48,64,6,5,36,66,72,40]\n",
    "y = [21,46,3,35,67,95,53,72,58,10,26,34,90,33,38,20,56,2,47,15]\n",
    "\n",
    "slope, intercept, r, p, std_err = stats.linregress(x, y)\n",
    "\n",
    "def myfunc(x):\n",
    "  return slope * x + intercept\n",
    "\n",
    "mymodel = list(map(myfunc, x))\n",
    "\n",
    "plt.scatter(x, y)\n",
    "plt.plot(x, mymodel)\n",
    "plt.show()\n",
    "print('Relationship: {}'.format(r))"
   ]
  },
  {
   "cell_type": "markdown",
   "metadata": {},
   "source": [
    "# Polynomial Regression <a id = \"polynomial_regression\"></a>"
   ]
  },
  {
   "cell_type": "code",
   "execution_count": 26,
   "metadata": {},
   "outputs": [
    {
     "data": {
      "image/png": "[encoded data removed]",
      "text/plain": [
       "<Figure size 432x288 with 1 Axes>"
      ]
     },
     "metadata": {
      "needs_background": "light"
     },
     "output_type": "display_data"
    }
   ],
   "source": [
    "import numpy\n",
    "import matplotlib.pyplot as plt\n",
    "\n",
    "x = [1,2,3,5,6,7,8,9,10,12,13,14,15,16,18,19,21,22]\n",
    "y = [100,90,80,60,60,55,60,65,70,70,75,76,78,79,90,99,99,100]\n",
    "\n",
    "mymodel = numpy.poly1d(numpy.polyfit(x, y, 3))\n",
    "\n",
    "myline = numpy.linspace(1, 22, 100)\n",
    "\n",
    "plt.scatter(x, y)\n",
    "plt.plot(myline, mymodel(myline))\n",
    "plt.show() "
   ]
  },
  {
   "cell_type": "markdown",
   "metadata": {},
   "source": [
    "## R-Squared for Polynomial Regression <a id = \"r_squared_for_polynomial_regression\"></a>\n",
    "It is important to know how well the relationship between the values of the x- and y-axis is, if there are no relationship the polynomial regression can not be used to predict anything.\n",
    "\n",
    "The relationship is measured with a value called the r-squared.\n",
    "\n",
    "The r-squared value ranges from 0 to 1, where 0 means no relationship, and 1 means 100% related.\n",
    "\n",
    "Note: The result 0.94 shows that there is a very good relationship, and we can use polynomial regression in future predictions.\n"
   ]
  },
  {
   "cell_type": "code",
   "execution_count": 36,
   "metadata": {},
   "outputs": [
    {
     "name": "stdout",
     "output_type": "stream",
     "text": [
      "Relationship: 0.9432150416451026\n"
     ]
    }
   ],
   "source": [
    "import numpy\n",
    "from sklearn.metrics import r2_score\n",
    "\n",
    "x = [1,2,3,5,6,7,8,9,10,12,13,14,15,16,18,19,21,22]\n",
    "y = [100,90,80,60,60,55,60,65,70,70,75,76,78,79,90,99,99,100]\n",
    "\n",
    "mymodel = numpy.poly1d(numpy.polyfit(x, y, 3))\n",
    "\n",
    "print('Relationship: {}'.format(r2_score(y, mymodel(x)))) "
   ]
  },
  {
   "cell_type": "markdown",
   "metadata": {},
   "source": [
    "## Predict Future Values for Polynomial Regression <a id = \"predict_future_values_for_polynomial_regression\"></a>"
   ]
  },
  {
   "cell_type": "code",
   "execution_count": 35,
   "metadata": {},
   "outputs": [
    {
     "name": "stdout",
     "output_type": "stream",
     "text": [
      "Predicted speed for 17 years old: 88.87331269697998\n"
     ]
    }
   ],
   "source": [
    "import numpy\n",
    "from sklearn.metrics import r2_score\n",
    "\n",
    "x = [1,2,3,5,6,7,8,9,10,12,13,14,15,16,18,19,21,22]\n",
    "y = [100,90,80,60,60,55,60,65,70,70,75,76,78,79,90,99,99,100]\n",
    "\n",
    "mymodel = numpy.poly1d(numpy.polyfit(x, y, 3))\n",
    "\n",
    "speed = mymodel(17)\n",
    "print('Predicted speed for {1} years old: {0}'.format(speed, 17)) "
   ]
  },
  {
   "cell_type": "markdown",
   "metadata": {},
   "source": [
    "## Bad Fit for Polynomial Regression <a id = \"bad_fit_for_polynomial_regression\"></a>\n",
    "The result: 0.00995 indicates a very bad relationship, and tells us that this data set is not suitable for polynomial regression."
   ]
  },
  {
   "cell_type": "code",
   "execution_count": 38,
   "metadata": {},
   "outputs": [
    {
     "data": {
      "image/png": "[encoded data removed]",
      "text/plain": [
       "<Figure size 432x288 with 1 Axes>"
      ]
     },
     "metadata": {
      "needs_background": "light"
     },
     "output_type": "display_data"
    },
    {
     "name": "stdout",
     "output_type": "stream",
     "text": [
      "Relationship: 0.009952707566680652\n"
     ]
    }
   ],
   "source": [
    "import numpy\n",
    "import matplotlib.pyplot as plt\n",
    "\n",
    "x = [89,43,36,36,95,10,66,34,38,20,26,29,48,64,6,5,36,66,72,40]\n",
    "y = [21,46,3,35,67,95,53,72,58,10,26,34,90,33,38,20,56,2,47,15]\n",
    "\n",
    "mymodel = numpy.poly1d(numpy.polyfit(x, y, 3))\n",
    "\n",
    "myline = numpy.linspace(2, 95, 100)\n",
    "\n",
    "plt.scatter(x, y)\n",
    "plt.plot(myline, mymodel(myline))\n",
    "plt.show() \n",
    "print('Relationship: {}'.format(r2_score(y, mymodel(x))))"
   ]
  },
  {
   "cell_type": "markdown",
   "metadata": {},
   "source": [
    "# Multiple Regression<a id = \"multiple_regression\"></a>\n",
    "**Multiple regression** is like linear regression, but with more than one independent value, meaning that we try to predict a value based on two or more variables.\n",
    "\n",
    "It is common to name the list of independent values with a upper case X, and the list of dependent values with a lower case y."
   ]
  },
  {
   "cell_type": "code",
   "execution_count": 72,
   "metadata": {},
   "outputs": [
    {
     "name": "stdout",
     "output_type": "stream",
     "text": [
      "          Car       Model  Volume  Weight  CO2\n",
      "0       oyota        Aygo    1000     790   99\n",
      "1  Mitsubishi  Space Star    1200    1160   95\n",
      "2       Skoda      Citigo    1000     929   95\n",
      "3        Fiat         500     900     865   90\n",
      "4        Mini      Cooper    1500    1140  105\n",
      "5          VW         Up!    1000     929  105\n",
      "6       Skoda       Fabia    1400    1109   90\n",
      "7    Mercedes     A-Class    1500    1365   92\n",
      "8        Ford      Fiesta    1500    1112   98\n",
      "9        Audi          A1    1600    1150   99\n"
     ]
    }
   ],
   "source": [
    "from pandas import read_csv\n",
    "csv_table = pandas.read_csv(\"cars.csv\")\n",
    "print(csv_table[:10])"
   ]
  },
  {
   "cell_type": "code",
   "execution_count": 43,
   "metadata": {},
   "outputs": [
    {
     "name": "stdout",
     "output_type": "stream",
     "text": [
      "Predicted CO2: 107.20873279892223\n"
     ]
    }
   ],
   "source": [
    "import pandas\n",
    "from sklearn import linear_model\n",
    "\n",
    "df = pandas.read_csv(\"cars.csv\")\n",
    "\n",
    "X = df[['Weight', 'Volume']]\n",
    "y = df['CO2']\n",
    "\n",
    "regr = linear_model.LinearRegression()\n",
    "regr.fit(X, y)\n",
    "\n",
    "#predict the CO2 emission of a car where the weight is 2300g, and the volume is 1300ccm:\n",
    "predictedCO2 = regr.predict([[2300, 1300]])\n",
    "\n",
    "print('Predicted CO2: {}'.format(*predictedCO2)) "
   ]
  },
  {
   "cell_type": "markdown",
   "metadata": {},
   "source": [
    "## Coefficient of Multiple Regression<a id = \"coefficient_of_multiple_regression\"></a>\n",
    "\n",
    "The coefficient is a factor that describes the relationship with an unknown variable.\n",
    "\n",
    "Example: if x is a variable, then 2x is x two times. x is the unknown variable, and the number 2 is the coefficient.\n",
    "\n",
    "In this case, we can ask for the coefficient value of weight against CO2, and for volume against CO2. The answer(s) we get tells us what would happen if we increase, or decrease, one of the independent values."
   ]
  },
  {
   "cell_type": "code",
   "execution_count": 49,
   "metadata": {},
   "outputs": [
    {
     "name": "stdout",
     "output_type": "stream",
     "text": [
      "Weight: 0.0076, Volume: 0.0078\n"
     ]
    }
   ],
   "source": [
    "import pandas\n",
    "from sklearn import linear_model\n",
    "\n",
    "df = pandas.read_csv(\"cars.csv\")\n",
    "\n",
    "X = df[['Weight', 'Volume']]\n",
    "y = df['CO2']\n",
    "\n",
    "regr = linear_model.LinearRegression()\n",
    "regr.fit(X, y)\n",
    "\n",
    "print('Weight: {0:.2}, Volume: {1:.2}'.format(*regr.coef_)) "
   ]
  },
  {
   "cell_type": "markdown",
   "metadata": {},
   "source": [
    "The result array represents the coefficient values of weight and value.\n",
    "\n",
    "Weight: 0.00755095\n",
    "Volume: 0.00780526\n",
    "\n",
    "These values tells us that if the weight increases by 1g, the CO2 emission increases by 0.00755095g.\n",
    "\n",
    "And if the engine size (Volume) increases by 1 ccm, the CO2 emission increases by 0.00780526 g."
   ]
  },
  {
   "cell_type": "markdown",
   "metadata": {},
   "source": [
    "# Scale Features<a id = \"scale_features\"></a>\n",
    "When your data has different values, and even different measurement units, it can be difficult to compare them. The answer to this problem is scaling. We can scale data into new values that are easier to compare.\n",
    "\n",
    "It can be difficult to compare the volume 1.0 with the weight 790, but if we scale them both into comparable values, we can easily see how much one value is compared to the other."
   ]
  },
  {
   "cell_type": "markdown",
   "metadata": {},
   "source": [
    "## Scale data by using Standardization<a id = \"scale_data_by_using_standardization\"></a>\n",
    "$z = (x - u) / s$\n",
    "\n",
    "$z$ - new value; $x$ - original value; $u$ - mean; $s$ - standart deviation"
   ]
  },
  {
   "cell_type": "code",
   "execution_count": 54,
   "metadata": {},
   "outputs": [
    {
     "name": "stdout",
     "output_type": "stream",
     "text": [
      "[[-2.10389253 -1.59336644]\n",
      " [-0.55407235 -1.07190106]\n",
      " [-1.52166278 -1.59336644]\n",
      " [-1.78973979 -1.85409913]\n",
      " [-0.63784641 -0.28970299]\n",
      " [-1.52166278 -1.59336644]\n",
      " [-0.76769621 -0.55043568]\n",
      " [ 0.3046118  -0.28970299]\n",
      " [-0.7551301  -0.28970299]\n",
      " [-0.59595938 -0.0289703 ]]\n"
     ]
    }
   ],
   "source": [
    "import pandas\n",
    "from sklearn import linear_model\n",
    "from sklearn.preprocessing import StandardScaler\n",
    "scale = StandardScaler()\n",
    "\n",
    "df = pandas.read_csv(\"cars_unscalled.csv\")\n",
    "\n",
    "X = df[['Weight', 'Volume']]\n",
    "\n",
    "scaledX = scale.fit_transform(X)\n",
    "\n",
    "print(scaledX[:10]) "
   ]
  },
  {
   "cell_type": "markdown",
   "metadata": {},
   "source": [
    "## Predict Values in unscalled data<a id = \"predict_values_in_unscalled_data\"></a>"
   ]
  },
  {
   "cell_type": "code",
   "execution_count": 58,
   "metadata": {},
   "outputs": [
    {
     "name": "stdout",
     "output_type": "stream",
     "text": [
      "Predicted value: 107.20873279892223\n"
     ]
    }
   ],
   "source": [
    "import pandas\n",
    "from sklearn import linear_model\n",
    "from sklearn.preprocessing import StandardScaler\n",
    "scale = StandardScaler()\n",
    "\n",
    "df = pandas.read_csv(\"cars_unscalled.csv\")\n",
    "\n",
    "X = df[['Weight', 'Volume']]\n",
    "y = df['CO2']\n",
    "\n",
    "scaledX = scale.fit_transform(X)\n",
    "\n",
    "regr = linear_model.LinearRegression()\n",
    "regr.fit(scaledX, y)\n",
    "\n",
    "scaled = scale.transform([[2300, 1.3]])\n",
    "\n",
    "predictedCO2 = regr.predict([scaled[0]])\n",
    "print('Predicted value: {}'.format(*predictedCO2)) "
   ]
  },
  {
   "cell_type": "markdown",
   "metadata": {},
   "source": [
    "# Train/Test<a id = \"train_test\"></a>\n",
    "In Machine Learning we create models to predict the outcome of certain events. To measure if the model is good enough, we can use a method called **Train/Test**.\n",
    "\n",
    "Train/Test is a method to measure the accuracy of your model.\n",
    "\n",
    "It is called Train/Test because you split the the data set into two sets: a training set and a testing set. 80% for training, and 20% for testing. Train the model means create the model. Test the model means test the accuracy of the model.\n",
    "\n",
    "The result 0.799 shows that there is a OK relationship.\n",
    "The result 0.809 shows that the model fits the testing set as well, and we are confident that we can use the model to predict future values."
   ]
  },
  {
   "cell_type": "code",
   "execution_count": 68,
   "metadata": {},
   "outputs": [
    {
     "data": {
      "image/png": "[encoded data removed]",
      "text/plain": [
       "<Figure size 432x288 with 1 Axes>"
      ]
     },
     "metadata": {
      "needs_background": "light"
     },
     "output_type": "display_data"
    },
    {
     "name": "stdout",
     "output_type": "stream",
     "text": [
      "R-squared for train: 0.7988645544629798\n",
      "R-squared for test: 0.8086921460343579\n",
      "Predicted value: 22.879625918115835\n"
     ]
    }
   ],
   "source": [
    "import numpy\n",
    "import matplotlib.pyplot as plt\n",
    "numpy.random.seed(2)\n",
    "\n",
    "x = numpy.random.normal(3, 1, 100)\n",
    "y = numpy.random.normal(150, 40, 100) / x\n",
    "\n",
    "train_x = x[:80]\n",
    "train_y = y[:80]\n",
    "\n",
    "test_x = x[80:]\n",
    "test_y = y[80:]\n",
    "\n",
    "mymodel = numpy.poly1d(numpy.polyfit(train_x, train_y, 4))\n",
    "\n",
    "myline = numpy.linspace(0, 6, 100)\n",
    "\n",
    "plt.scatter(train_x, train_y)\n",
    "plt.plot(myline, mymodel(myline))\n",
    "plt.show() \n",
    "\n",
    "r2 = r2_score(train_y, mymodel(train_x))\n",
    "print('R-squared for train: {}'.format(r2))\n",
    "\n",
    "r2 = r2_score(test_y, mymodel(test_x))\n",
    "print('R-squared for test: {}'.format(r2)) \n",
    "\n",
    "print('Predicted value: {}'.format(mymodel(5))) "
   ]
  },
  {
   "cell_type": "markdown",
   "metadata": {},
   "source": [
    "# Decision Tree<a id = \"decision_tree\"></a>\n",
    "A Decision Tree is a Flow Chart, and can help you make decisions based on previous experience."
   ]
  },
  {
   "cell_type": "code",
   "execution_count": 70,
   "metadata": {},
   "outputs": [
    {
     "name": "stdout",
     "output_type": "stream",
     "text": [
      "    Age  Experience  Rank Nationality   Go\n",
      "0    36          10     9          UK   NO\n",
      "1    42          12     4         USA   NO\n",
      "2    23           4     6           N   NO\n",
      "3    52           4     4         USA   NO\n",
      "4    43          21     8         USA  YES\n",
      "5    44          14     5          UK   NO\n",
      "6    66           3     7           N  YES\n",
      "7    35          14     9          UK  YES\n",
      "8    52          13     7           N  YES\n",
      "9    35           5     9           N  YES\n",
      "10   24           3     5         USA   NO\n",
      "11   18           3     7          UK  YES\n",
      "12   45           9     9          UK  YES\n"
     ]
    }
   ],
   "source": [
    "import pandas\n",
    "from sklearn import tree\n",
    "import pydotplus\n",
    "from sklearn.tree import DecisionTreeClassifier\n",
    "import matplotlib.pyplot as plt\n",
    "import matplotlib.image as pltimg\n",
    "\n",
    "df = pandas.read_csv(\"shows.csv\")\n",
    "\n",
    "print(df) "
   ]
  },
  {
   "cell_type": "markdown",
   "metadata": {},
   "source": [
    "To make a decision tree, all data has to be numerical.\n",
    "\n",
    "We have to convert the non numerical columns 'Nationality' and 'Go' into numerical values.\n",
    "\n",
    "Pandas has a map() method that takes a dictionary with information on how to convert the values.\n",
    "\n",
    "{'UK': 0, 'USA': 1, 'N': 2}\n",
    "\n",
    "Means convert the values 'UK' to 0, 'USA' to 1, and 'N' to 2."
   ]
  },
  {
   "cell_type": "code",
   "execution_count": 75,
   "metadata": {},
   "outputs": [
    {
     "name": "stdout",
     "output_type": "stream",
     "text": [
      "    Age  Experience  Rank  Nationality  Go\n",
      "0    36          10     9            0   0\n",
      "1    42          12     4            1   0\n",
      "2    23           4     6            2   0\n",
      "3    52           4     4            1   0\n",
      "4    43          21     8            1   1\n",
      "5    44          14     5            0   0\n",
      "6    66           3     7            2   1\n",
      "7    35          14     9            0   1\n",
      "8    52          13     7            2   1\n",
      "9    35           5     9            2   1\n",
      "10   24           3     5            1   0\n",
      "11   18           3     7            0   1\n",
      "12   45           9     9            0   1\n"
     ]
    }
   ],
   "source": [
    "import pandas\n",
    "from sklearn import tree\n",
    "import pydotplus\n",
    "from sklearn.tree import DecisionTreeClassifier\n",
    "import matplotlib.pyplot as plt\n",
    "import matplotlib.image as pltimg\n",
    "\n",
    "df = pandas.read_csv(\"shows.csv\")\n",
    "\n",
    "d = {'UK': 0, 'USA': 1, 'N': 2}\n",
    "df['Nationality'] = df['Nationality'].map(d)\n",
    "d = {'YES': 1, 'NO': 0}\n",
    "df['Go'] = df['Go'].map(d)\n",
    "\n",
    "print(df) "
   ]
  },
  {
   "cell_type": "markdown",
   "metadata": {},
   "source": [
    "Then we have to separate the feature columns from the target column.\n",
    "\n",
    "The feature columns are the columns that we try to predict from, and the target column is the column with the values we try to predict."
   ]
  },
  {
   "cell_type": "code",
   "execution_count": 79,
   "metadata": {},
   "outputs": [
    {
     "name": "stdout",
     "output_type": "stream",
     "text": [
      "X:\n",
      "    Age  Experience  Rank  Nationality\n",
      "0    36          10     9            0\n",
      "1    42          12     4            1\n",
      "2    23           4     6            2\n",
      "3    52           4     4            1\n",
      "4    43          21     8            1\n",
      "5    44          14     5            0\n",
      "6    66           3     7            2\n",
      "7    35          14     9            0\n",
      "8    52          13     7            2\n",
      "9    35           5     9            2\n",
      "10   24           3     5            1\n",
      "11   18           3     7            0\n",
      "12   45           9     9            0\n",
      "\n",
      "y:\n",
      "0     0\n",
      "1     0\n",
      "2     0\n",
      "3     0\n",
      "4     1\n",
      "5     0\n",
      "6     1\n",
      "7     1\n",
      "8     1\n",
      "9     1\n",
      "10    0\n",
      "11    1\n",
      "12    1\n",
      "Name: Go, dtype: int64\n"
     ]
    }
   ],
   "source": [
    "features = ['Age', 'Experience', 'Rank', 'Nationality']\n",
    "\n",
    "X = df[features]\n",
    "y = df['Go']\n",
    "\n",
    "print('X:\\n{}\\n\\ny:\\n{}'.format(X, y))"
   ]
  },
  {
   "cell_type": "markdown",
   "metadata": {},
   "source": [
    "Now we can create the actual decision tree, fit it with our details, and save a .png file on the computer:"
   ]
  },
  {
   "cell_type": "code",
   "execution_count": 92,
   "metadata": {},
   "outputs": [
    {
     "data": {
      "image/png": "[encoded data removed]",
      "text/plain": [
       "<Figure size 432x288 with 1 Axes>"
      ]
     },
     "metadata": {
      "needs_background": "light"
     },
     "output_type": "display_data"
    }
   ],
   "source": [
    "dtree = DecisionTreeClassifier()\n",
    "dtree = dtree.fit(X, y)\n",
    "data = tree.export_graphviz(dtree, out_file=None, feature_names=features)\n",
    "graph = pydotplus.graph_from_dot_data(data)\n",
    "graph.write_png('mydecisiontree.png')\n",
    "\n",
    "img = pltimg.imread('mydecisiontree.png')\n",
    "imgplot = plt.imshow(img) \n",
    "\n",
    "plt.show() "
   ]
  }
 ],
 "metadata": {
  "kernelspec": {
   "display_name": "Python 3",
   "language": "python",
   "name": "python3"
  },
  "language_info": {
   "codemirror_mode": {
    "name": "ipython",
    "version": 3
   },
   "file_extension": ".py",
   "mimetype": "text/x-python",
   "name": "python",
   "nbconvert_exporter": "python",
   "pygments_lexer": "ipython3",
   "version": "3.7.4"
  }
 },
 "nbformat": 4,
 "nbformat_minor": 4
}
